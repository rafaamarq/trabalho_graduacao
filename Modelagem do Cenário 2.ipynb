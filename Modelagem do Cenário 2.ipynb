{
 "cells": [
  {
   "cell_type": "markdown",
   "metadata": {},
   "source": [
    "# Análise dos modelos com o Cenário 2"
   ]
  },
  {
   "cell_type": "code",
   "execution_count": 1,
   "metadata": {},
   "outputs": [],
   "source": [
    "import pandas as pd \n",
    "from sklearn.tree import DecisionTreeClassifier,export_graphviz\n",
    "from sklearn.model_selection import train_test_split\n",
    "from sklearn.ensemble import RandomForestClassifier\n",
    "from sklearn import metrics\n",
    "import numpy as np\n",
    "import seaborn as sns\n",
    "import matplotlib.pyplot as plt\n",
    "from plot_metric.functions import BinaryClassification\n",
    "from sklearn.model_selection import GridSearchCV"
   ]
  },
  {
   "cell_type": "markdown",
   "metadata": {},
   "source": [
    "## Cenário 2"
   ]
  },
  {
   "cell_type": "code",
   "execution_count": 2,
   "metadata": {},
   "outputs": [
    {
     "data": {
      "text/html": [
       "<div>\n",
       "<style scoped>\n",
       "    .dataframe tbody tr th:only-of-type {\n",
       "        vertical-align: middle;\n",
       "    }\n",
       "\n",
       "    .dataframe tbody tr th {\n",
       "        vertical-align: top;\n",
       "    }\n",
       "\n",
       "    .dataframe thead th {\n",
       "        text-align: right;\n",
       "    }\n",
       "</style>\n",
       "<table border=\"1\" class=\"dataframe\">\n",
       "  <thead>\n",
       "    <tr style=\"text-align: right;\">\n",
       "      <th></th>\n",
       "      <th>saldo_conta</th>\n",
       "      <th>idade</th>\n",
       "      <th>score_credito</th>\n",
       "      <th>limite_credito</th>\n",
       "      <th>renda</th>\n",
       "      <th>valor_compra</th>\n",
       "      <th>qnt_parcelas</th>\n",
       "      <th>valor_parcela</th>\n",
       "      <th>percent_compra</th>\n",
       "      <th>tempo_contratacao</th>\n",
       "      <th>valor_ult_fatura</th>\n",
       "      <th>qnt_compra_ult_fatura</th>\n",
       "      <th>media_compra_ult_fatura</th>\n",
       "      <th>iu_ult_fatura</th>\n",
       "      <th>iu_penultima_fatura</th>\n",
       "      <th>qnt_compra_virtual_ult_fatura</th>\n",
       "      <th>qnt_compra_fisica_ult_fatura</th>\n",
       "      <th>max_compra_virtual_ult_mes</th>\n",
       "      <th>dif_endereços_km</th>\n",
       "      <th>fraude</th>\n",
       "    </tr>\n",
       "  </thead>\n",
       "  <tbody>\n",
       "    <tr>\n",
       "      <th>0</th>\n",
       "      <td>4127.28</td>\n",
       "      <td>42.0</td>\n",
       "      <td>640.0</td>\n",
       "      <td>1592.0</td>\n",
       "      <td>1576.90</td>\n",
       "      <td>334.32</td>\n",
       "      <td>6</td>\n",
       "      <td>55.72</td>\n",
       "      <td>0.21</td>\n",
       "      <td>30</td>\n",
       "      <td>764.16</td>\n",
       "      <td>11</td>\n",
       "      <td>69.47</td>\n",
       "      <td>0.48</td>\n",
       "      <td>0.28</td>\n",
       "      <td>4.0</td>\n",
       "      <td>7.0</td>\n",
       "      <td>145.19</td>\n",
       "      <td>0.055126</td>\n",
       "      <td>0</td>\n",
       "    </tr>\n",
       "    <tr>\n",
       "      <th>1</th>\n",
       "      <td>3058.12</td>\n",
       "      <td>50.0</td>\n",
       "      <td>720.0</td>\n",
       "      <td>9616.0</td>\n",
       "      <td>4540.60</td>\n",
       "      <td>2307.84</td>\n",
       "      <td>3</td>\n",
       "      <td>769.28</td>\n",
       "      <td>0.24</td>\n",
       "      <td>20</td>\n",
       "      <td>2500.16</td>\n",
       "      <td>15</td>\n",
       "      <td>166.68</td>\n",
       "      <td>0.26</td>\n",
       "      <td>0.61</td>\n",
       "      <td>5.0</td>\n",
       "      <td>10.0</td>\n",
       "      <td>200.01</td>\n",
       "      <td>0.095668</td>\n",
       "      <td>0</td>\n",
       "    </tr>\n",
       "    <tr>\n",
       "      <th>2</th>\n",
       "      <td>18540.01</td>\n",
       "      <td>53.0</td>\n",
       "      <td>100.0</td>\n",
       "      <td>10630.0</td>\n",
       "      <td>8507.03</td>\n",
       "      <td>2444.90</td>\n",
       "      <td>4</td>\n",
       "      <td>611.22</td>\n",
       "      <td>0.23</td>\n",
       "      <td>40</td>\n",
       "      <td>4358.30</td>\n",
       "      <td>11</td>\n",
       "      <td>396.21</td>\n",
       "      <td>0.41</td>\n",
       "      <td>0.76</td>\n",
       "      <td>0.0</td>\n",
       "      <td>11.0</td>\n",
       "      <td>0.00</td>\n",
       "      <td>0.322908</td>\n",
       "      <td>0</td>\n",
       "    </tr>\n",
       "    <tr>\n",
       "      <th>3</th>\n",
       "      <td>0.00</td>\n",
       "      <td>43.0</td>\n",
       "      <td>460.0</td>\n",
       "      <td>5138.0</td>\n",
       "      <td>2046.03</td>\n",
       "      <td>616.56</td>\n",
       "      <td>22</td>\n",
       "      <td>28.03</td>\n",
       "      <td>0.12</td>\n",
       "      <td>30</td>\n",
       "      <td>2671.76</td>\n",
       "      <td>11</td>\n",
       "      <td>242.89</td>\n",
       "      <td>0.52</td>\n",
       "      <td>0.60</td>\n",
       "      <td>1.0</td>\n",
       "      <td>10.0</td>\n",
       "      <td>480.92</td>\n",
       "      <td>0.000000</td>\n",
       "      <td>0</td>\n",
       "    </tr>\n",
       "    <tr>\n",
       "      <th>4</th>\n",
       "      <td>3117.92</td>\n",
       "      <td>45.0</td>\n",
       "      <td>290.0</td>\n",
       "      <td>1087.0</td>\n",
       "      <td>1142.75</td>\n",
       "      <td>206.53</td>\n",
       "      <td>10</td>\n",
       "      <td>20.65</td>\n",
       "      <td>0.19</td>\n",
       "      <td>30</td>\n",
       "      <td>739.16</td>\n",
       "      <td>13</td>\n",
       "      <td>56.86</td>\n",
       "      <td>0.68</td>\n",
       "      <td>0.47</td>\n",
       "      <td>2.0</td>\n",
       "      <td>11.0</td>\n",
       "      <td>635.68</td>\n",
       "      <td>0.653934</td>\n",
       "      <td>0</td>\n",
       "    </tr>\n",
       "  </tbody>\n",
       "</table>\n",
       "</div>"
      ],
      "text/plain": [
       "   saldo_conta  idade  score_credito  limite_credito    renda  valor_compra  \\\n",
       "0      4127.28   42.0          640.0          1592.0  1576.90        334.32   \n",
       "1      3058.12   50.0          720.0          9616.0  4540.60       2307.84   \n",
       "2     18540.01   53.0          100.0         10630.0  8507.03       2444.90   \n",
       "3         0.00   43.0          460.0          5138.0  2046.03        616.56   \n",
       "4      3117.92   45.0          290.0          1087.0  1142.75        206.53   \n",
       "\n",
       "   qnt_parcelas  valor_parcela  percent_compra  tempo_contratacao  \\\n",
       "0             6          55.72            0.21                 30   \n",
       "1             3         769.28            0.24                 20   \n",
       "2             4         611.22            0.23                 40   \n",
       "3            22          28.03            0.12                 30   \n",
       "4            10          20.65            0.19                 30   \n",
       "\n",
       "   valor_ult_fatura  qnt_compra_ult_fatura  media_compra_ult_fatura  \\\n",
       "0            764.16                     11                    69.47   \n",
       "1           2500.16                     15                   166.68   \n",
       "2           4358.30                     11                   396.21   \n",
       "3           2671.76                     11                   242.89   \n",
       "4            739.16                     13                    56.86   \n",
       "\n",
       "   iu_ult_fatura  iu_penultima_fatura  qnt_compra_virtual_ult_fatura  \\\n",
       "0           0.48                 0.28                            4.0   \n",
       "1           0.26                 0.61                            5.0   \n",
       "2           0.41                 0.76                            0.0   \n",
       "3           0.52                 0.60                            1.0   \n",
       "4           0.68                 0.47                            2.0   \n",
       "\n",
       "   qnt_compra_fisica_ult_fatura  max_compra_virtual_ult_mes  dif_endereços_km  \\\n",
       "0                           7.0                      145.19          0.055126   \n",
       "1                          10.0                      200.01          0.095668   \n",
       "2                          11.0                        0.00          0.322908   \n",
       "3                          10.0                      480.92          0.000000   \n",
       "4                          11.0                      635.68          0.653934   \n",
       "\n",
       "  fraude  \n",
       "0      0  \n",
       "1      0  \n",
       "2      0  \n",
       "3      0  \n",
       "4      0  "
      ]
     },
     "execution_count": 2,
     "metadata": {},
     "output_type": "execute_result"
    }
   ],
   "source": [
    "data2_200 = pd.read_csv('Cenario2_200000.csv')\n",
    "data2_200['fraude'] = data2_200['fraude'].astype('category')\n",
    "data2_200.head()"
   ]
  },
  {
   "cell_type": "code",
   "execution_count": 3,
   "metadata": {},
   "outputs": [
    {
     "data": {
      "text/html": [
       "<div>\n",
       "<style scoped>\n",
       "    .dataframe tbody tr th:only-of-type {\n",
       "        vertical-align: middle;\n",
       "    }\n",
       "\n",
       "    .dataframe tbody tr th {\n",
       "        vertical-align: top;\n",
       "    }\n",
       "\n",
       "    .dataframe thead th {\n",
       "        text-align: right;\n",
       "    }\n",
       "</style>\n",
       "<table border=\"1\" class=\"dataframe\">\n",
       "  <thead>\n",
       "    <tr style=\"text-align: right;\">\n",
       "      <th></th>\n",
       "      <th>saldo_conta</th>\n",
       "      <th>idade</th>\n",
       "      <th>score_credito</th>\n",
       "      <th>limite_credito</th>\n",
       "      <th>renda</th>\n",
       "      <th>valor_compra</th>\n",
       "      <th>qnt_parcelas</th>\n",
       "      <th>valor_parcela</th>\n",
       "      <th>percent_compra</th>\n",
       "      <th>tempo_contratacao</th>\n",
       "      <th>valor_ult_fatura</th>\n",
       "      <th>qnt_compra_ult_fatura</th>\n",
       "      <th>media_compra_ult_fatura</th>\n",
       "      <th>iu_ult_fatura</th>\n",
       "      <th>iu_penultima_fatura</th>\n",
       "      <th>qnt_compra_virtual_ult_fatura</th>\n",
       "      <th>qnt_compra_fisica_ult_fatura</th>\n",
       "      <th>max_compra_virtual_ult_mes</th>\n",
       "      <th>dif_endereços_km</th>\n",
       "      <th>fraude</th>\n",
       "    </tr>\n",
       "  </thead>\n",
       "  <tbody>\n",
       "    <tr>\n",
       "      <th>0</th>\n",
       "      <td>4419.69</td>\n",
       "      <td>41.0</td>\n",
       "      <td>120.0</td>\n",
       "      <td>436.0</td>\n",
       "      <td>1181.76</td>\n",
       "      <td>69.76</td>\n",
       "      <td>4</td>\n",
       "      <td>17.44</td>\n",
       "      <td>0.16</td>\n",
       "      <td>70</td>\n",
       "      <td>383.68</td>\n",
       "      <td>10</td>\n",
       "      <td>38.37</td>\n",
       "      <td>0.88</td>\n",
       "      <td>0.28</td>\n",
       "      <td>4.0</td>\n",
       "      <td>6.0</td>\n",
       "      <td>122.78</td>\n",
       "      <td>0.864912</td>\n",
       "      <td>0</td>\n",
       "    </tr>\n",
       "    <tr>\n",
       "      <th>1</th>\n",
       "      <td>3047.80</td>\n",
       "      <td>45.0</td>\n",
       "      <td>510.0</td>\n",
       "      <td>1553.0</td>\n",
       "      <td>1313.02</td>\n",
       "      <td>590.14</td>\n",
       "      <td>11</td>\n",
       "      <td>53.65</td>\n",
       "      <td>0.38</td>\n",
       "      <td>10</td>\n",
       "      <td>279.54</td>\n",
       "      <td>13</td>\n",
       "      <td>21.50</td>\n",
       "      <td>0.18</td>\n",
       "      <td>0.07</td>\n",
       "      <td>6.0</td>\n",
       "      <td>7.0</td>\n",
       "      <td>120.20</td>\n",
       "      <td>0.047700</td>\n",
       "      <td>0</td>\n",
       "    </tr>\n",
       "    <tr>\n",
       "      <th>2</th>\n",
       "      <td>4220.05</td>\n",
       "      <td>45.0</td>\n",
       "      <td>180.0</td>\n",
       "      <td>454.0</td>\n",
       "      <td>1143.04</td>\n",
       "      <td>49.94</td>\n",
       "      <td>1</td>\n",
       "      <td>49.94</td>\n",
       "      <td>0.11</td>\n",
       "      <td>40</td>\n",
       "      <td>195.22</td>\n",
       "      <td>9</td>\n",
       "      <td>21.69</td>\n",
       "      <td>0.43</td>\n",
       "      <td>0.74</td>\n",
       "      <td>3.0</td>\n",
       "      <td>6.0</td>\n",
       "      <td>144.46</td>\n",
       "      <td>0.336098</td>\n",
       "      <td>0</td>\n",
       "    </tr>\n",
       "    <tr>\n",
       "      <th>3</th>\n",
       "      <td>3554.74</td>\n",
       "      <td>34.0</td>\n",
       "      <td>400.0</td>\n",
       "      <td>10520.0</td>\n",
       "      <td>5016.42</td>\n",
       "      <td>946.80</td>\n",
       "      <td>11</td>\n",
       "      <td>86.07</td>\n",
       "      <td>0.09</td>\n",
       "      <td>50</td>\n",
       "      <td>5470.40</td>\n",
       "      <td>14</td>\n",
       "      <td>390.74</td>\n",
       "      <td>0.52</td>\n",
       "      <td>0.26</td>\n",
       "      <td>1.0</td>\n",
       "      <td>13.0</td>\n",
       "      <td>1312.90</td>\n",
       "      <td>0.205688</td>\n",
       "      <td>0</td>\n",
       "    </tr>\n",
       "    <tr>\n",
       "      <th>4</th>\n",
       "      <td>12897.93</td>\n",
       "      <td>37.0</td>\n",
       "      <td>970.0</td>\n",
       "      <td>1891.0</td>\n",
       "      <td>3713.75</td>\n",
       "      <td>680.76</td>\n",
       "      <td>23</td>\n",
       "      <td>29.60</td>\n",
       "      <td>0.36</td>\n",
       "      <td>30</td>\n",
       "      <td>340.38</td>\n",
       "      <td>10</td>\n",
       "      <td>34.04</td>\n",
       "      <td>0.18</td>\n",
       "      <td>0.67</td>\n",
       "      <td>1.0</td>\n",
       "      <td>9.0</td>\n",
       "      <td>190.61</td>\n",
       "      <td>0.603224</td>\n",
       "      <td>0</td>\n",
       "    </tr>\n",
       "  </tbody>\n",
       "</table>\n",
       "</div>"
      ],
      "text/plain": [
       "   saldo_conta  idade  score_credito  limite_credito    renda  valor_compra  \\\n",
       "0      4419.69   41.0          120.0           436.0  1181.76         69.76   \n",
       "1      3047.80   45.0          510.0          1553.0  1313.02        590.14   \n",
       "2      4220.05   45.0          180.0           454.0  1143.04         49.94   \n",
       "3      3554.74   34.0          400.0         10520.0  5016.42        946.80   \n",
       "4     12897.93   37.0          970.0          1891.0  3713.75        680.76   \n",
       "\n",
       "   qnt_parcelas  valor_parcela  percent_compra  tempo_contratacao  \\\n",
       "0             4          17.44            0.16                 70   \n",
       "1            11          53.65            0.38                 10   \n",
       "2             1          49.94            0.11                 40   \n",
       "3            11          86.07            0.09                 50   \n",
       "4            23          29.60            0.36                 30   \n",
       "\n",
       "   valor_ult_fatura  qnt_compra_ult_fatura  media_compra_ult_fatura  \\\n",
       "0            383.68                     10                    38.37   \n",
       "1            279.54                     13                    21.50   \n",
       "2            195.22                      9                    21.69   \n",
       "3           5470.40                     14                   390.74   \n",
       "4            340.38                     10                    34.04   \n",
       "\n",
       "   iu_ult_fatura  iu_penultima_fatura  qnt_compra_virtual_ult_fatura  \\\n",
       "0           0.88                 0.28                            4.0   \n",
       "1           0.18                 0.07                            6.0   \n",
       "2           0.43                 0.74                            3.0   \n",
       "3           0.52                 0.26                            1.0   \n",
       "4           0.18                 0.67                            1.0   \n",
       "\n",
       "   qnt_compra_fisica_ult_fatura  max_compra_virtual_ult_mes  dif_endereços_km  \\\n",
       "0                           6.0                      122.78          0.864912   \n",
       "1                           7.0                      120.20          0.047700   \n",
       "2                           6.0                      144.46          0.336098   \n",
       "3                          13.0                     1312.90          0.205688   \n",
       "4                           9.0                      190.61          0.603224   \n",
       "\n",
       "  fraude  \n",
       "0      0  \n",
       "1      0  \n",
       "2      0  \n",
       "3      0  \n",
       "4      0  "
      ]
     },
     "execution_count": 3,
     "metadata": {},
     "output_type": "execute_result"
    }
   ],
   "source": [
    "data2_100 = pd.read_csv('Cenario2_100000.csv')\n",
    "data2_100['fraude'] = data2_100['fraude'].astype('category')\n",
    "data2_100.head()"
   ]
  },
  {
   "cell_type": "code",
   "execution_count": 4,
   "metadata": {},
   "outputs": [
    {
     "data": {
      "text/html": [
       "<div>\n",
       "<style scoped>\n",
       "    .dataframe tbody tr th:only-of-type {\n",
       "        vertical-align: middle;\n",
       "    }\n",
       "\n",
       "    .dataframe tbody tr th {\n",
       "        vertical-align: top;\n",
       "    }\n",
       "\n",
       "    .dataframe thead th {\n",
       "        text-align: right;\n",
       "    }\n",
       "</style>\n",
       "<table border=\"1\" class=\"dataframe\">\n",
       "  <thead>\n",
       "    <tr style=\"text-align: right;\">\n",
       "      <th></th>\n",
       "      <th>saldo_conta</th>\n",
       "      <th>idade</th>\n",
       "      <th>score_credito</th>\n",
       "      <th>limite_credito</th>\n",
       "      <th>renda</th>\n",
       "      <th>valor_compra</th>\n",
       "      <th>qnt_parcelas</th>\n",
       "      <th>valor_parcela</th>\n",
       "      <th>percent_compra</th>\n",
       "      <th>tempo_contratacao</th>\n",
       "      <th>valor_ult_fatura</th>\n",
       "      <th>qnt_compra_ult_fatura</th>\n",
       "      <th>media_compra_ult_fatura</th>\n",
       "      <th>iu_ult_fatura</th>\n",
       "      <th>iu_penultima_fatura</th>\n",
       "      <th>qnt_compra_virtual_ult_fatura</th>\n",
       "      <th>qnt_compra_fisica_ult_fatura</th>\n",
       "      <th>max_compra_virtual_ult_mes</th>\n",
       "      <th>dif_endereços_km</th>\n",
       "      <th>fraude</th>\n",
       "    </tr>\n",
       "  </thead>\n",
       "  <tbody>\n",
       "    <tr>\n",
       "      <th>0</th>\n",
       "      <td>1766.91</td>\n",
       "      <td>38.0</td>\n",
       "      <td>420.0</td>\n",
       "      <td>4326.0</td>\n",
       "      <td>2127.62</td>\n",
       "      <td>1730.40</td>\n",
       "      <td>7</td>\n",
       "      <td>247.20</td>\n",
       "      <td>0.40</td>\n",
       "      <td>20</td>\n",
       "      <td>1341.06</td>\n",
       "      <td>7</td>\n",
       "      <td>191.58</td>\n",
       "      <td>0.31</td>\n",
       "      <td>0.45</td>\n",
       "      <td>4.0</td>\n",
       "      <td>3.0</td>\n",
       "      <td>120.70</td>\n",
       "      <td>0.237181</td>\n",
       "      <td>0</td>\n",
       "    </tr>\n",
       "    <tr>\n",
       "      <th>1</th>\n",
       "      <td>0.00</td>\n",
       "      <td>43.0</td>\n",
       "      <td>310.0</td>\n",
       "      <td>6093.0</td>\n",
       "      <td>2428.03</td>\n",
       "      <td>2071.62</td>\n",
       "      <td>9</td>\n",
       "      <td>230.18</td>\n",
       "      <td>0.34</td>\n",
       "      <td>20</td>\n",
       "      <td>3168.36</td>\n",
       "      <td>9</td>\n",
       "      <td>352.04</td>\n",
       "      <td>0.52</td>\n",
       "      <td>0.18</td>\n",
       "      <td>2.0</td>\n",
       "      <td>7.0</td>\n",
       "      <td>380.20</td>\n",
       "      <td>0.000000</td>\n",
       "      <td>0</td>\n",
       "    </tr>\n",
       "    <tr>\n",
       "      <th>2</th>\n",
       "      <td>4299.73</td>\n",
       "      <td>51.0</td>\n",
       "      <td>860.0</td>\n",
       "      <td>658.0</td>\n",
       "      <td>1242.97</td>\n",
       "      <td>296.10</td>\n",
       "      <td>6</td>\n",
       "      <td>49.35</td>\n",
       "      <td>0.45</td>\n",
       "      <td>30</td>\n",
       "      <td>230.30</td>\n",
       "      <td>13</td>\n",
       "      <td>17.72</td>\n",
       "      <td>0.35</td>\n",
       "      <td>0.49</td>\n",
       "      <td>3.0</td>\n",
       "      <td>10.0</td>\n",
       "      <td>94.42</td>\n",
       "      <td>3.994846</td>\n",
       "      <td>0</td>\n",
       "    </tr>\n",
       "    <tr>\n",
       "      <th>3</th>\n",
       "      <td>8092.71</td>\n",
       "      <td>52.0</td>\n",
       "      <td>530.0</td>\n",
       "      <td>2159.0</td>\n",
       "      <td>2715.75</td>\n",
       "      <td>388.62</td>\n",
       "      <td>8</td>\n",
       "      <td>48.58</td>\n",
       "      <td>0.18</td>\n",
       "      <td>80</td>\n",
       "      <td>1252.22</td>\n",
       "      <td>11</td>\n",
       "      <td>113.84</td>\n",
       "      <td>0.58</td>\n",
       "      <td>0.20</td>\n",
       "      <td>1.0</td>\n",
       "      <td>10.0</td>\n",
       "      <td>601.07</td>\n",
       "      <td>0.245703</td>\n",
       "      <td>0</td>\n",
       "    </tr>\n",
       "    <tr>\n",
       "      <th>4</th>\n",
       "      <td>27904.92</td>\n",
       "      <td>39.0</td>\n",
       "      <td>420.0</td>\n",
       "      <td>4126.0</td>\n",
       "      <td>8059.36</td>\n",
       "      <td>1526.62</td>\n",
       "      <td>20</td>\n",
       "      <td>76.33</td>\n",
       "      <td>0.37</td>\n",
       "      <td>20</td>\n",
       "      <td>2351.82</td>\n",
       "      <td>9</td>\n",
       "      <td>261.31</td>\n",
       "      <td>0.57</td>\n",
       "      <td>0.15</td>\n",
       "      <td>1.0</td>\n",
       "      <td>8.0</td>\n",
       "      <td>376.29</td>\n",
       "      <td>1.610304</td>\n",
       "      <td>0</td>\n",
       "    </tr>\n",
       "  </tbody>\n",
       "</table>\n",
       "</div>"
      ],
      "text/plain": [
       "   saldo_conta  idade  score_credito  limite_credito    renda  valor_compra  \\\n",
       "0      1766.91   38.0          420.0          4326.0  2127.62       1730.40   \n",
       "1         0.00   43.0          310.0          6093.0  2428.03       2071.62   \n",
       "2      4299.73   51.0          860.0           658.0  1242.97        296.10   \n",
       "3      8092.71   52.0          530.0          2159.0  2715.75        388.62   \n",
       "4     27904.92   39.0          420.0          4126.0  8059.36       1526.62   \n",
       "\n",
       "   qnt_parcelas  valor_parcela  percent_compra  tempo_contratacao  \\\n",
       "0             7         247.20            0.40                 20   \n",
       "1             9         230.18            0.34                 20   \n",
       "2             6          49.35            0.45                 30   \n",
       "3             8          48.58            0.18                 80   \n",
       "4            20          76.33            0.37                 20   \n",
       "\n",
       "   valor_ult_fatura  qnt_compra_ult_fatura  media_compra_ult_fatura  \\\n",
       "0           1341.06                      7                   191.58   \n",
       "1           3168.36                      9                   352.04   \n",
       "2            230.30                     13                    17.72   \n",
       "3           1252.22                     11                   113.84   \n",
       "4           2351.82                      9                   261.31   \n",
       "\n",
       "   iu_ult_fatura  iu_penultima_fatura  qnt_compra_virtual_ult_fatura  \\\n",
       "0           0.31                 0.45                            4.0   \n",
       "1           0.52                 0.18                            2.0   \n",
       "2           0.35                 0.49                            3.0   \n",
       "3           0.58                 0.20                            1.0   \n",
       "4           0.57                 0.15                            1.0   \n",
       "\n",
       "   qnt_compra_fisica_ult_fatura  max_compra_virtual_ult_mes  dif_endereços_km  \\\n",
       "0                           3.0                      120.70          0.237181   \n",
       "1                           7.0                      380.20          0.000000   \n",
       "2                          10.0                       94.42          3.994846   \n",
       "3                          10.0                      601.07          0.245703   \n",
       "4                           8.0                      376.29          1.610304   \n",
       "\n",
       "  fraude  \n",
       "0      0  \n",
       "1      0  \n",
       "2      0  \n",
       "3      0  \n",
       "4      0  "
      ]
     },
     "execution_count": 4,
     "metadata": {},
     "output_type": "execute_result"
    }
   ],
   "source": [
    "data2_50 = pd.read_csv('Cenario2_50000.csv')\n",
    "data2_50['fraude'] = data2_50['fraude'].astype('category')\n",
    "data2_50.head()"
   ]
  },
  {
   "cell_type": "markdown",
   "metadata": {},
   "source": [
    "### n = 200.000"
   ]
  },
  {
   "cell_type": "markdown",
   "metadata": {},
   "source": [
    "###### Dividindo a base em treino e teste"
   ]
  },
  {
   "cell_type": "code",
   "execution_count": 5,
   "metadata": {},
   "outputs": [
    {
     "data": {
      "text/plain": [
       "((140000, 19), (60000, 19))"
      ]
     },
     "execution_count": 5,
     "metadata": {},
     "output_type": "execute_result"
    }
   ],
   "source": [
    "np.random.seed(71)\n",
    "X2_train, X2_test, y2_train, y2_test = train_test_split(data2_200.drop('fraude',axis=1),data2_200['fraude'],test_size=0.3)\n",
    "\n",
    "# Verificando as formas dos dados:\n",
    "X2_train.shape,X2_test.shape"
   ]
  },
  {
   "cell_type": "markdown",
   "metadata": {},
   "source": [
    "#### Árvore de Decisão"
   ]
  },
  {
   "cell_type": "code",
   "execution_count": 6,
   "metadata": {},
   "outputs": [],
   "source": [
    "# Instânciando o objeto classificador:\n",
    "tree = DecisionTreeClassifier(random_state=0)\n",
    "\n",
    "# Treinando o modelo de arvore de decisão:\n",
    "tree = tree.fit(X2_train,y2_train)"
   ]
  },
  {
   "cell_type": "code",
   "execution_count": 7,
   "metadata": {},
   "outputs": [
    {
     "name": "stdout",
     "output_type": "stream",
     "text": [
      "Fitting 5 folds for each of 72 candidates, totalling 360 fits\n"
     ]
    },
    {
     "name": "stderr",
     "output_type": "stream",
     "text": [
      "[Parallel(n_jobs=-1)]: Using backend LokyBackend with 4 concurrent workers.\n",
      "[Parallel(n_jobs=-1)]: Done  42 tasks      | elapsed:   23.9s\n",
      "[Parallel(n_jobs=-1)]: Done 192 tasks      | elapsed:  2.2min\n",
      "[Parallel(n_jobs=-1)]: Done 360 out of 360 | elapsed:  3.6min finished\n"
     ]
    },
    {
     "data": {
      "text/plain": [
       "DecisionTreeClassifier(criterion='entropy', max_depth=12, min_samples_split=3,\n",
       "                       random_state=0)"
      ]
     },
     "execution_count": 7,
     "metadata": {},
     "output_type": "execute_result"
    }
   ],
   "source": [
    "#Encontrando os melhores parâmetros\n",
    "params = {'max_depth': [2,4,6,8,10,12],\n",
    "         'min_samples_split': [2,3,4],\n",
    "         'min_samples_leaf': [1,2],\n",
    "         'criterion' :['gini', 'entropy']}\n",
    "\n",
    "gcv = GridSearchCV(estimator=tree,\n",
    "                   param_grid=params,\n",
    "                  verbose=1,\n",
    "                  n_jobs=-1)\n",
    "gcv.fit(X2_train,y2_train)\n",
    "\n",
    "gcv.best_estimator_"
   ]
  },
  {
   "cell_type": "code",
   "execution_count": 8,
   "metadata": {},
   "outputs": [],
   "source": [
    "# Melhor modelo encontrado\n",
    "clf2 = gcv.best_estimator_\n",
    "\n",
    "# Treinando o modelo de arvore de decisão:\n",
    "clf2 = clf2.fit(X2_train,y2_train)\n",
    "\n",
    "# Verificando as classificações feitas na base teste\n",
    "y2_pred = clf2.predict(X2_test)"
   ]
  },
  {
   "cell_type": "markdown",
   "metadata": {},
   "source": [
    "###### Variaveis mais importantes"
   ]
  },
  {
   "cell_type": "code",
   "execution_count": 9,
   "metadata": {},
   "outputs": [
    {
     "name": "stderr",
     "output_type": "stream",
     "text": [
      "No handles with labels found to put in legend.\n"
     ]
    },
    {
     "data": {
      "image/png": "[encoded data removed]",
      "text/plain": [
       "<Figure size 720x576 with 1 Axes>"
      ]
     },
     "metadata": {
      "needs_background": "light"
     },
     "output_type": "display_data"
    }
   ],
   "source": [
    "feature_imp = pd.Series(clf2.feature_importances_,index=data2_200.drop('fraude',axis=1).columns).sort_values(ascending=False)\n",
    "plt.figure(figsize=(10,8))\n",
    "sns.barplot(x=feature_imp, y=feature_imp.index, palette='PuRd_r')\n",
    "\n",
    "# Formatando o gráfico\n",
    "plt.xlabel('Importancia das variáveis')\n",
    "plt.ylabel('Variáveis')\n",
    "plt.title(\"Gráfico da importancia das variáveis - Árvore de classificação\")\n",
    "plt.legend()\n",
    "plt.show()"
   ]
  },
  {
   "cell_type": "markdown",
   "metadata": {},
   "source": [
    "#### Floresta Aleatória"
   ]
  },
  {
   "cell_type": "code",
   "execution_count": 10,
   "metadata": {},
   "outputs": [
    {
     "data": {
      "text/plain": [
       "RandomForestClassifier(random_state=0)"
      ]
     },
     "execution_count": 10,
     "metadata": {},
     "output_type": "execute_result"
    }
   ],
   "source": [
    "# Instânciando o objeto classificador:\n",
    "rfc = RandomForestClassifier(random_state=0) \n",
    "\n",
    "# Treinando o modelo floresta aleatória \n",
    "rfc.fit(X2_train,y2_train) "
   ]
  },
  {
   "cell_type": "code",
   "execution_count": 11,
   "metadata": {
    "scrolled": true
   },
   "outputs": [
    {
     "name": "stdout",
     "output_type": "stream",
     "text": [
      "Fitting 3 folds for each of 40 candidates, totalling 120 fits\n"
     ]
    },
    {
     "name": "stderr",
     "output_type": "stream",
     "text": [
      "[Parallel(n_jobs=-1)]: Using backend LokyBackend with 4 concurrent workers.\n",
      "[Parallel(n_jobs=-1)]: Done  42 tasks      | elapsed: 24.0min\n",
      "[Parallel(n_jobs=-1)]: Done 120 out of 120 | elapsed: 73.1min finished\n"
     ]
    },
    {
     "data": {
      "text/plain": [
       "RandomForestClassifier(criterion='entropy', max_depth=8, n_estimators=200,\n",
       "                       random_state=0)"
      ]
     },
     "execution_count": 11,
     "metadata": {},
     "output_type": "execute_result"
    }
   ],
   "source": [
    "param_grid = { \n",
    "    'n_estimators': [200, 500],\n",
    "    'max_features': ['auto', 'sqrt'],\n",
    "    'max_depth' : [4,5,6,7,8],\n",
    "    'criterion' :['gini', 'entropy']\n",
    "}\n",
    "\n",
    "grfc = GridSearchCV(estimator=rfc, \n",
    "                    param_grid=param_grid,\n",
    "                    cv=3,\n",
    "                    verbose=1,\n",
    "                    n_jobs=-1)\n",
    "grfc.fit(X2_train,y2_train)\n",
    "\n",
    "grfc.best_estimator_"
   ]
  },
  {
   "cell_type": "code",
   "execution_count": 12,
   "metadata": {},
   "outputs": [],
   "source": [
    "# Melhor modelo encontrado\n",
    "rfc2 = grfc.best_estimator_\n",
    "\n",
    "# Treinando o modelo de arvore de decisão:\n",
    "rfc2 = rfc2.fit(X2_train,y2_train)\n",
    "\n",
    "# Verificando as classificações feitas na base teste\n",
    "y2_pred_rf = rfc2.predict(X2_test)"
   ]
  },
  {
   "cell_type": "markdown",
   "metadata": {},
   "source": [
    "###### Variaveis mais importantes"
   ]
  },
  {
   "cell_type": "code",
   "execution_count": 13,
   "metadata": {},
   "outputs": [
    {
     "name": "stderr",
     "output_type": "stream",
     "text": [
      "No handles with labels found to put in legend.\n"
     ]
    },
    {
     "data": {
      "image/png": "[encoded data removed]",
      "text/plain": [
       "<Figure size 720x576 with 1 Axes>"
      ]
     },
     "metadata": {
      "needs_background": "light"
     },
     "output_type": "display_data"
    }
   ],
   "source": [
    "feature_imp = pd.Series(rfc2.feature_importances_,index=data2_200.drop('fraude',axis=1).columns).sort_values(ascending=False)\n",
    "plt.figure(figsize=(10,8))\n",
    "sns.barplot(x=feature_imp, y=feature_imp.index, palette='PuRd_r')\n",
    "\n",
    "# Formatando o gráfico\n",
    "plt.xlabel('Importancia das variáveis')\n",
    "plt.ylabel('Variáveis')\n",
    "plt.title(\"Gráfico da importancia das variáveis - Floresta aleatória\")\n",
    "plt.legend()\n",
    "plt.show()"
   ]
  },
  {
   "cell_type": "markdown",
   "metadata": {},
   "source": [
    "#### Comparação das duas tecnicas "
   ]
  },
  {
   "cell_type": "code",
   "execution_count": 14,
   "metadata": {},
   "outputs": [],
   "source": [
    "# Função que calcula as métricas\n",
    "def metricas(sS, fS, sF, fF):\n",
    "    N = sS + fS + sF + fF\n",
    "    s = sF + sS\n",
    "    S = fS + sS\n",
    "    f = fS + fF\n",
    "    F = sF + fF\n",
    "    CAT = (sS + fF)/ N\n",
    "    CAS = sS/S\n",
    "    CAF = fF/F\n",
    "    VPP = sS/s\n",
    "    VPN = fS/f\n",
    "    PVL = S/N\n",
    "    MCC = (sS*fF - sF*fS)/np.sqrt(s*S*f*F)\n",
    "    print(\"CAT = \",round(CAT,3))\n",
    "    print(\"CAS = \",round(CAS,3))\n",
    "    print(\"CAF = \",round(CAF,3))\n",
    "    print(\"VPP = \",round(VPP,3))\n",
    "    print(\"VPN = \",round(VPN,3))\n",
    "    print(\"PVL = \",round(PVL,3))\n",
    "    print(\"MCC = \",round(MCC,3))"
   ]
  },
  {
   "cell_type": "code",
   "execution_count": 15,
   "metadata": {},
   "outputs": [
    {
     "data": {
      "image/png": "[encoded data removed]",
      "text/plain": [
       "<Figure size 864x288 with 4 Axes>"
      ]
     },
     "metadata": {
      "needs_background": "light"
     },
     "output_type": "display_data"
    }
   ],
   "source": [
    "# Matriz de confusão \n",
    "fig = plt.figure(figsize=(12,4))\n",
    "\n",
    "ax1 = fig.add_subplot(121)\n",
    "confusion_matrix2 = pd.crosstab(y2_pred, y2_test, rownames = ['Predito'], colnames = ['Observado']) \n",
    "g = sns.heatmap(confusion_matrix2, fmt='', linewidths=.5, annot = True, cmap='PuRd', ax = ax1)\n",
    "g.set(title = \"Matriz de confusão - Árvore de Classificação\")\n",
    "\n",
    "ax2 = fig.add_subplot(122)\n",
    "confusion_matrix2_rf = pd.crosstab(y2_pred_rf, y2_test, rownames = ['Predito'], colnames = ['Observado']) \n",
    "g1 = sns.heatmap(confusion_matrix2_rf, fmt='', linewidths=.5, annot = True, cmap='PuRd', ax = ax2)\n",
    "g1.set(title = \"Matriz de confusão - Floresta Aleatória\")\n",
    "plt.show ()"
   ]
  },
  {
   "cell_type": "code",
   "execution_count": 16,
   "metadata": {},
   "outputs": [
    {
     "data": {
      "image/png": "[encoded data removed]",
      "text/plain": [
       "<Figure size 864x288 with 4 Axes>"
      ]
     },
     "metadata": {
      "needs_background": "light"
     },
     "output_type": "display_data"
    }
   ],
   "source": [
    "# Matrix de confusão \n",
    "fig = plt.figure(figsize=(12,4))\n",
    "\n",
    "ax1 = fig.add_subplot(121)\n",
    "confusion_matrix2 = pd.crosstab(y2_pred, y2_test, rownames = ['Predito'], colnames = ['Observado']) \n",
    "g = sns.heatmap(confusion_matrix2/np.sum(confusion_matrix2), fmt='.2%', linewidths=.5, annot = True, cmap='PuRd',annot_kws={\"size\": 12}, ax = ax1)\n",
    "g.set(title = \"Matriz de confusão - Árvore de Classificação\")\n",
    "\n",
    "ax2 = fig.add_subplot(122)\n",
    "confusion_matrix2_rf = pd.crosstab(y2_pred_rf, y2_test, rownames = ['Predito'], colnames = ['Observado']) \n",
    "g1 = sns.heatmap(confusion_matrix2_rf/np.sum(confusion_matrix2_rf), fmt='.2%', linewidths=.5, annot = True, cmap='PuRd',annot_kws={\"size\": 12}, ax = ax2)\n",
    "g1.set(title = \"Matriz de confusão - Floresta Aleatória\")\n",
    "\n",
    "plt.show ()"
   ]
  },
  {
   "cell_type": "code",
   "execution_count": 17,
   "metadata": {},
   "outputs": [
    {
     "name": "stdout",
     "output_type": "stream",
     "text": [
      "CAT =  0.998\n",
      "CAS =  0.895\n",
      "CAF =  0.999\n",
      "VPP =  0.859\n",
      "VPN =  0.001\n",
      "PVL =  0.006\n",
      "MCC =  0.876\n"
     ]
    }
   ],
   "source": [
    "metricas(confusion_matrix2.iloc[1,1], confusion_matrix2.iloc[0,1], confusion_matrix2.iloc[1,0], confusion_matrix2.iloc[0,0])"
   ]
  },
  {
   "cell_type": "code",
   "execution_count": 18,
   "metadata": {},
   "outputs": [
    {
     "name": "stdout",
     "output_type": "stream",
     "text": [
      "CAT =  0.999\n",
      "CAS =  0.895\n",
      "CAF =  1.0\n",
      "VPP =  0.957\n",
      "VPN =  0.001\n",
      "PVL =  0.006\n",
      "MCC =  0.925\n"
     ]
    }
   ],
   "source": [
    "metricas(confusion_matrix2_rf.iloc[1,1], confusion_matrix2_rf.iloc[0,1], confusion_matrix2_rf.iloc[1,0], confusion_matrix2_rf.iloc[0,0])"
   ]
  },
  {
   "cell_type": "markdown",
   "metadata": {},
   "source": [
    "### n = 100.000"
   ]
  },
  {
   "cell_type": "markdown",
   "metadata": {},
   "source": [
    "###### Dividindo a base em treino e teste"
   ]
  },
  {
   "cell_type": "code",
   "execution_count": 19,
   "metadata": {},
   "outputs": [
    {
     "data": {
      "text/plain": [
       "((70000, 19), (30000, 19))"
      ]
     },
     "execution_count": 19,
     "metadata": {},
     "output_type": "execute_result"
    }
   ],
   "source": [
    "np.random.seed(71)\n",
    "X1_train, X1_test, y1_train, y1_test = train_test_split(data2_100.drop('fraude',axis=1),data2_100['fraude'],test_size=0.3)\n",
    "\n",
    "# Verificando as formas dos dados:\n",
    "X1_train.shape,X1_test.shape"
   ]
  },
  {
   "cell_type": "markdown",
   "metadata": {},
   "source": [
    "#### Árvore de Decisão"
   ]
  },
  {
   "cell_type": "code",
   "execution_count": 20,
   "metadata": {},
   "outputs": [],
   "source": [
    "# Instânciando o objeto classificador:\n",
    "tree = DecisionTreeClassifier(random_state=0)\n",
    "\n",
    "# Treinando o modelo de arvore de decisão:\n",
    "tree = tree.fit(X1_train,y1_train)"
   ]
  },
  {
   "cell_type": "code",
   "execution_count": 21,
   "metadata": {},
   "outputs": [
    {
     "name": "stdout",
     "output_type": "stream",
     "text": [
      "Fitting 5 folds for each of 72 candidates, totalling 360 fits\n"
     ]
    },
    {
     "name": "stderr",
     "output_type": "stream",
     "text": [
      "[Parallel(n_jobs=-1)]: Using backend LokyBackend with 4 concurrent workers.\n",
      "[Parallel(n_jobs=-1)]: Done  42 tasks      | elapsed:   15.8s\n",
      "[Parallel(n_jobs=-1)]: Done 192 tasks      | elapsed:  1.2min\n",
      "[Parallel(n_jobs=-1)]: Done 360 out of 360 | elapsed:  1.8min finished\n"
     ]
    },
    {
     "data": {
      "text/plain": [
       "DecisionTreeClassifier(criterion='entropy', max_depth=12, random_state=0)"
      ]
     },
     "execution_count": 21,
     "metadata": {},
     "output_type": "execute_result"
    }
   ],
   "source": [
    "#Encontrando os melhores parâmetros\n",
    "params = {'max_depth': [2,4,6,8,10,12],\n",
    "         'min_samples_split': [2,3,4],\n",
    "         'min_samples_leaf': [1,2],\n",
    "         'criterion' :['gini', 'entropy']}\n",
    "\n",
    "gcv = GridSearchCV(estimator=tree,\n",
    "                   param_grid=params,\n",
    "                  verbose=1,\n",
    "                  n_jobs=-1)\n",
    "gcv.fit(X1_train,y1_train)\n",
    "\n",
    "gcv.best_estimator_"
   ]
  },
  {
   "cell_type": "code",
   "execution_count": 22,
   "metadata": {},
   "outputs": [],
   "source": [
    "# Melhor modelo encontrado\n",
    "clf1 = gcv.best_estimator_\n",
    "\n",
    "# Treinando o modelo de arvore de decisão:\n",
    "clf1 = clf1.fit(X1_train,y1_train)\n",
    "\n",
    "# Verificando as classificações feitas na base teste\n",
    "y1_pred = clf1.predict(X1_test)"
   ]
  },
  {
   "cell_type": "markdown",
   "metadata": {},
   "source": [
    "###### Variáveis mais importantes"
   ]
  },
  {
   "cell_type": "code",
   "execution_count": 23,
   "metadata": {},
   "outputs": [
    {
     "name": "stderr",
     "output_type": "stream",
     "text": [
      "No handles with labels found to put in legend.\n"
     ]
    },
    {
     "data": {
      "image/png": "[encoded data removed]",
      "text/plain": [
       "<Figure size 720x576 with 1 Axes>"
      ]
     },
     "metadata": {
      "needs_background": "light"
     },
     "output_type": "display_data"
    }
   ],
   "source": [
    "feature_imp = pd.Series(clf1.feature_importances_,index=data2_100.drop('fraude',axis=1).columns).sort_values(ascending=False)\n",
    "plt.figure(figsize=(10,8))\n",
    "sns.barplot(x=feature_imp, y=feature_imp.index, palette='PuRd_r')\n",
    "\n",
    "# Formatando o gráfico\n",
    "plt.xlabel('Importancia das variáveis')\n",
    "plt.ylabel('Variáveis')\n",
    "plt.title(\"Gráfico da importancia das variáveis - Árvore de decisão\")\n",
    "plt.legend()\n",
    "plt.show()"
   ]
  },
  {
   "cell_type": "markdown",
   "metadata": {},
   "source": [
    "#### Floresta Aleatória"
   ]
  },
  {
   "cell_type": "code",
   "execution_count": 24,
   "metadata": {},
   "outputs": [
    {
     "data": {
      "text/plain": [
       "RandomForestClassifier(random_state=0)"
      ]
     },
     "execution_count": 24,
     "metadata": {},
     "output_type": "execute_result"
    }
   ],
   "source": [
    "# Instânciando o objeto classificador:\n",
    "rfc = RandomForestClassifier(random_state=0) \n",
    "\n",
    "# Treinando o modelo floresta aleatória \n",
    "rfc.fit(X1_train,y1_train) "
   ]
  },
  {
   "cell_type": "code",
   "execution_count": 25,
   "metadata": {},
   "outputs": [
    {
     "name": "stdout",
     "output_type": "stream",
     "text": [
      "Fitting 3 folds for each of 40 candidates, totalling 120 fits\n"
     ]
    },
    {
     "name": "stderr",
     "output_type": "stream",
     "text": [
      "[Parallel(n_jobs=-1)]: Using backend LokyBackend with 4 concurrent workers.\n",
      "[Parallel(n_jobs=-1)]: Done  42 tasks      | elapsed: 11.3min\n",
      "[Parallel(n_jobs=-1)]: Done 120 out of 120 | elapsed: 35.8min finished\n"
     ]
    },
    {
     "data": {
      "text/plain": [
       "RandomForestClassifier(criterion='entropy', max_depth=8, n_estimators=500,\n",
       "                       random_state=0)"
      ]
     },
     "execution_count": 25,
     "metadata": {},
     "output_type": "execute_result"
    }
   ],
   "source": [
    "param_grid = { \n",
    "    'n_estimators': [200, 500],\n",
    "    'max_features': ['auto', 'sqrt'],\n",
    "    'max_depth' : [4,5,6,7,8],\n",
    "    'criterion' :['gini', 'entropy']\n",
    "}\n",
    "\n",
    "grfc = GridSearchCV(estimator=rfc, \n",
    "                    param_grid=param_grid,\n",
    "                    cv=3,\n",
    "                    verbose=1,\n",
    "                    n_jobs=-1)\n",
    "grfc.fit(X1_train,y1_train)\n",
    "\n",
    "grfc.best_estimator_"
   ]
  },
  {
   "cell_type": "code",
   "execution_count": 26,
   "metadata": {},
   "outputs": [],
   "source": [
    "# Melhor modelo encontrado\n",
    "rfc1 = grfc.best_estimator_\n",
    "\n",
    "# Treinando o modelo de arvore de decisão:\n",
    "rfc1 = rfc1.fit(X1_train,y1_train)\n",
    "\n",
    "# Verificando as classificações feitas na base teste\n",
    "y1_pred_rf = rfc1.predict(X1_test)"
   ]
  },
  {
   "cell_type": "markdown",
   "metadata": {},
   "source": [
    "###### Variáveis mais importantes"
   ]
  },
  {
   "cell_type": "code",
   "execution_count": 27,
   "metadata": {},
   "outputs": [
    {
     "name": "stderr",
     "output_type": "stream",
     "text": [
      "No handles with labels found to put in legend.\n"
     ]
    },
    {
     "data": {
      "image/png": "[encoded data removed]",
      "text/plain": [
       "<Figure size 720x576 with 1 Axes>"
      ]
     },
     "metadata": {
      "needs_background": "light"
     },
     "output_type": "display_data"
    }
   ],
   "source": [
    "feature_imp = pd.Series(rfc1.feature_importances_,index=data2_100.drop('fraude',axis=1).columns).sort_values(ascending=False)\n",
    "plt.figure(figsize=(10,8))\n",
    "sns.barplot(x=feature_imp, y=feature_imp.index, palette='PuRd_r')\n",
    "\n",
    "# Formatando o gráfico\n",
    "plt.xlabel('Importancia das variáveis')\n",
    "plt.ylabel('Variáveis')\n",
    "plt.title(\"Gráfico da importancia das variáveis - Floresta Aleatória\")\n",
    "plt.legend()\n",
    "plt.show()"
   ]
  },
  {
   "cell_type": "markdown",
   "metadata": {},
   "source": [
    "#### Comparando as técnicas"
   ]
  },
  {
   "cell_type": "code",
   "execution_count": 28,
   "metadata": {},
   "outputs": [
    {
     "data": {
      "image/png": "[encoded data removed]",
      "text/plain": [
       "<Figure size 864x288 with 4 Axes>"
      ]
     },
     "metadata": {
      "needs_background": "light"
     },
     "output_type": "display_data"
    }
   ],
   "source": [
    "# Matrix de confusão \n",
    "fig = plt.figure(figsize=(12,4))\n",
    "\n",
    "ax1 = fig.add_subplot(121)\n",
    "confusion_matrix1 = pd.crosstab(y1_pred, y1_test, rownames = ['Predito'], colnames = ['Observado']) \n",
    "g = sns.heatmap(confusion_matrix1, fmt='', linewidths=.5, annot = True, cmap='PuRd', ax = ax1)\n",
    "g.set(title = \"Matriz de confusão - Árvore de Classificação\")\n",
    "\n",
    "ax2 = fig.add_subplot(122)\n",
    "confusion_matrix1_rf = pd.crosstab(y1_pred_rf, y1_test, rownames = ['Predito'], colnames = ['Observado']) \n",
    "g1 = sns.heatmap(confusion_matrix1_rf, fmt='', linewidths=.5, annot = True, cmap='PuRd', ax = ax2)\n",
    "g1.set(title = \"Matriz de confusão - Floresta Aleatória\")\n",
    "\n",
    "plt.show ()"
   ]
  },
  {
   "cell_type": "code",
   "execution_count": 29,
   "metadata": {},
   "outputs": [
    {
     "data": {
      "image/png": "[encoded data removed]",
      "text/plain": [
       "<Figure size 864x288 with 4 Axes>"
      ]
     },
     "metadata": {
      "needs_background": "light"
     },
     "output_type": "display_data"
    }
   ],
   "source": [
    "# Matrix de confusão \n",
    "fig = plt.figure(figsize=(12,4))\n",
    "\n",
    "ax1 = fig.add_subplot(121)\n",
    "confusion_matrix1 = pd.crosstab(y1_pred, y1_test, rownames = ['Predito'], colnames = ['Observado']) \n",
    "g = sns.heatmap(confusion_matrix1/np.sum(confusion_matrix1),fmt='.2%', linewidths=.5, annot = True, cmap='PuRd', annot_kws={\"size\": 12}, ax = ax1)\n",
    "g.set(title = \"Matriz de confusão - Árvore de Classificação\")\n",
    "\n",
    "ax2 = fig.add_subplot(122)\n",
    "confusion_matrix1_rf = pd.crosstab(y1_pred_rf, y1_test, rownames = ['Predito'], colnames = ['Observado']) \n",
    "g1 = sns.heatmap(confusion_matrix1_rf/np.sum(confusion_matrix1_rf), fmt='.2%', linewidths=.5, annot = True, cmap='PuRd',annot_kws={\"size\": 12}, ax = ax2)\n",
    "g1.set(title = \"Matriz de confusão - Floresta Aleatória\")\n",
    "\n",
    "plt.show ()"
   ]
  },
  {
   "cell_type": "code",
   "execution_count": 30,
   "metadata": {},
   "outputs": [
    {
     "name": "stdout",
     "output_type": "stream",
     "text": [
      "CAT =  0.998\n",
      "CAS =  0.855\n",
      "CAF =  0.999\n",
      "VPP =  0.841\n",
      "VPN =  0.001\n",
      "PVL =  0.006\n",
      "MCC =  0.847\n"
     ]
    }
   ],
   "source": [
    "metricas(confusion_matrix1.iloc[1,1], confusion_matrix1.iloc[0,1], confusion_matrix1.iloc[1,0], confusion_matrix1.iloc[0,0])"
   ]
  },
  {
   "cell_type": "code",
   "execution_count": 31,
   "metadata": {},
   "outputs": [
    {
     "name": "stdout",
     "output_type": "stream",
     "text": [
      "CAT =  0.999\n",
      "CAS =  0.832\n",
      "CAF =  1.0\n",
      "VPP =  0.917\n",
      "VPN =  0.001\n",
      "PVL =  0.006\n",
      "MCC =  0.873\n"
     ]
    }
   ],
   "source": [
    "metricas(confusion_matrix1_rf.iloc[1,1], confusion_matrix1_rf.iloc[0,1], confusion_matrix1_rf.iloc[1,0], confusion_matrix1_rf.iloc[0,0])"
   ]
  },
  {
   "cell_type": "markdown",
   "metadata": {},
   "source": [
    "### n = 50.000"
   ]
  },
  {
   "cell_type": "markdown",
   "metadata": {},
   "source": [
    "###### Dividindo a base em treino e teste"
   ]
  },
  {
   "cell_type": "code",
   "execution_count": 32,
   "metadata": {},
   "outputs": [
    {
     "data": {
      "text/plain": [
       "((35000, 19), (15000, 19))"
      ]
     },
     "execution_count": 32,
     "metadata": {},
     "output_type": "execute_result"
    }
   ],
   "source": [
    "np.random.seed(71)\n",
    "X5_train, X5_test, y5_train, y5_test = train_test_split(data2_50.drop('fraude',axis=1),data2_50['fraude'],test_size=0.3)\n",
    "\n",
    "# Verificando as formas dos dados:\n",
    "X5_train.shape,X5_test.shape"
   ]
  },
  {
   "cell_type": "markdown",
   "metadata": {},
   "source": [
    "#### Árvore de Decisão"
   ]
  },
  {
   "cell_type": "code",
   "execution_count": 33,
   "metadata": {},
   "outputs": [],
   "source": [
    "# Instânciando o objeto classificador:\n",
    "tree = DecisionTreeClassifier(random_state=0)\n",
    "\n",
    "# Treinando o modelo de arvore de decisão:\n",
    "tree = tree.fit(X5_train,y5_train)"
   ]
  },
  {
   "cell_type": "code",
   "execution_count": 34,
   "metadata": {},
   "outputs": [
    {
     "name": "stdout",
     "output_type": "stream",
     "text": [
      "Fitting 5 folds for each of 72 candidates, totalling 360 fits\n"
     ]
    },
    {
     "name": "stderr",
     "output_type": "stream",
     "text": [
      "[Parallel(n_jobs=-1)]: Using backend LokyBackend with 4 concurrent workers.\n",
      "[Parallel(n_jobs=-1)]: Done  42 tasks      | elapsed:    4.4s\n",
      "[Parallel(n_jobs=-1)]: Done 192 tasks      | elapsed:   23.7s\n",
      "[Parallel(n_jobs=-1)]: Done 360 out of 360 | elapsed:   44.8s finished\n"
     ]
    },
    {
     "data": {
      "text/plain": [
       "DecisionTreeClassifier(criterion='entropy', max_depth=10, min_samples_leaf=2,\n",
       "                       random_state=0)"
      ]
     },
     "execution_count": 34,
     "metadata": {},
     "output_type": "execute_result"
    }
   ],
   "source": [
    "#Encontrando os melhores parâmetros\n",
    "params = {'max_depth': [2,4,6,8,10,12],\n",
    "         'min_samples_split': [2,3,4],\n",
    "         'min_samples_leaf': [1,2],\n",
    "         'criterion' :['gini', 'entropy']}\n",
    "\n",
    "gcv = GridSearchCV(estimator=tree,\n",
    "                   param_grid=params,\n",
    "                  verbose=1,\n",
    "                  n_jobs=-1)\n",
    "gcv.fit(X5_train,y5_train)\n",
    "\n",
    "gcv.best_estimator_"
   ]
  },
  {
   "cell_type": "code",
   "execution_count": 35,
   "metadata": {},
   "outputs": [],
   "source": [
    "# Melhor modelo encontrado\n",
    "clf5 = gcv.best_estimator_\n",
    "\n",
    "# Treinando o modelo de arvore de decisão:\n",
    "clf5 = clf5.fit(X5_train,y5_train)\n",
    "\n",
    "# Verificando as classificações feitas na base teste\n",
    "y5_pred = clf5.predict(X5_test)"
   ]
  },
  {
   "cell_type": "markdown",
   "metadata": {},
   "source": [
    "###### Variáveis mais importantes"
   ]
  },
  {
   "cell_type": "code",
   "execution_count": 36,
   "metadata": {},
   "outputs": [
    {
     "name": "stderr",
     "output_type": "stream",
     "text": [
      "No handles with labels found to put in legend.\n"
     ]
    },
    {
     "data": {
      "image/png": "[encoded data removed]",
      "text/plain": [
       "<Figure size 720x576 with 1 Axes>"
      ]
     },
     "metadata": {
      "needs_background": "light"
     },
     "output_type": "display_data"
    }
   ],
   "source": [
    "feature_imp = pd.Series(clf5.feature_importances_,index=data2_50.drop('fraude',axis=1).columns).sort_values(ascending=False)\n",
    "plt.figure(figsize=(10,8))\n",
    "sns.barplot(x=feature_imp, y=feature_imp.index, palette='PuRd_r')\n",
    "\n",
    "# Formatando o gráfico\n",
    "plt.xlabel('Importancia das variáveis')\n",
    "plt.ylabel('Variáveis')\n",
    "plt.title(\"Gráfico da importancia das variáveis - Árvore de classificação\")\n",
    "plt.legend()\n",
    "plt.show()"
   ]
  },
  {
   "cell_type": "markdown",
   "metadata": {},
   "source": [
    "#### Floresta Aleatória"
   ]
  },
  {
   "cell_type": "code",
   "execution_count": 37,
   "metadata": {},
   "outputs": [
    {
     "data": {
      "text/plain": [
       "RandomForestClassifier(random_state=0)"
      ]
     },
     "execution_count": 37,
     "metadata": {},
     "output_type": "execute_result"
    }
   ],
   "source": [
    "# Instânciando o objeto classificador:\n",
    "rfc = RandomForestClassifier(random_state=0) \n",
    "\n",
    "# Treinando o modelo floresta aleatória \n",
    "rfc.fit(X5_train,y5_train) "
   ]
  },
  {
   "cell_type": "code",
   "execution_count": 38,
   "metadata": {},
   "outputs": [
    {
     "name": "stdout",
     "output_type": "stream",
     "text": [
      "Fitting 3 folds for each of 40 candidates, totalling 120 fits\n"
     ]
    },
    {
     "name": "stderr",
     "output_type": "stream",
     "text": [
      "[Parallel(n_jobs=-1)]: Using backend LokyBackend with 4 concurrent workers.\n",
      "[Parallel(n_jobs=-1)]: Done  42 tasks      | elapsed:  3.4min\n",
      "[Parallel(n_jobs=-1)]: Done 120 out of 120 | elapsed:  7.7min finished\n"
     ]
    },
    {
     "data": {
      "text/plain": [
       "RandomForestClassifier(criterion='entropy', max_depth=7, n_estimators=500,\n",
       "                       random_state=0)"
      ]
     },
     "execution_count": 38,
     "metadata": {},
     "output_type": "execute_result"
    }
   ],
   "source": [
    "param_grid = { \n",
    "    'n_estimators': [200, 500],\n",
    "    'max_features': ['auto', 'sqrt'],\n",
    "    'max_depth' : [4,5,6,7,8],\n",
    "    'criterion' :['gini', 'entropy']\n",
    "}\n",
    "\n",
    "grfc = GridSearchCV(estimator=rfc, \n",
    "                    param_grid=param_grid,\n",
    "                    cv=3,\n",
    "                    verbose=1,\n",
    "                    n_jobs=-1)\n",
    "grfc.fit(X5_train,y5_train)\n",
    "\n",
    "grfc.best_estimator_"
   ]
  },
  {
   "cell_type": "code",
   "execution_count": 39,
   "metadata": {},
   "outputs": [],
   "source": [
    "# Melhor modelo encontrado\n",
    "rfc5 = grfc.best_estimator_\n",
    "\n",
    "# Treinando o modelo de arvore de decisão:\n",
    "rfc5 = rfc5.fit(X5_train,y5_train)\n",
    "\n",
    "# Verificando as classificações feitas na base teste\n",
    "y5_pred_rf = rfc5.predict(X5_test)"
   ]
  },
  {
   "cell_type": "markdown",
   "metadata": {},
   "source": [
    "###### Variáveis mais importantes"
   ]
  },
  {
   "cell_type": "code",
   "execution_count": 40,
   "metadata": {},
   "outputs": [
    {
     "name": "stderr",
     "output_type": "stream",
     "text": [
      "No handles with labels found to put in legend.\n"
     ]
    },
    {
     "data": {
      "image/png": "[encoded data removed]",
      "text/plain": [
       "<Figure size 720x576 with 1 Axes>"
      ]
     },
     "metadata": {
      "needs_background": "light"
     },
     "output_type": "display_data"
    }
   ],
   "source": [
    "feature_imp = pd.Series(rfc5.feature_importances_,index=data2_50.drop('fraude',axis=1).columns).sort_values(ascending=False)\n",
    "plt.figure(figsize=(10,8))\n",
    "sns.barplot(x=feature_imp, y=feature_imp.index, palette='PuRd_r')\n",
    "\n",
    "# Formatando o gráfico\n",
    "plt.xlabel('Importancia das variáveis')\n",
    "plt.ylabel('Variáveis')\n",
    "plt.title(\"Gráfico da importancia das variáveis - Floresta Aleatória\")\n",
    "plt.legend()\n",
    "plt.show()"
   ]
  },
  {
   "cell_type": "markdown",
   "metadata": {},
   "source": [
    "#### Comparando as técnicas"
   ]
  },
  {
   "cell_type": "code",
   "execution_count": 41,
   "metadata": {},
   "outputs": [
    {
     "data": {
      "image/png": "[encoded data removed]",
      "text/plain": [
       "<Figure size 864x288 with 4 Axes>"
      ]
     },
     "metadata": {
      "needs_background": "light"
     },
     "output_type": "display_data"
    }
   ],
   "source": [
    "# Matrix de confusão \n",
    "fig = plt.figure(figsize=(12,4))\n",
    "\n",
    "ax1 = fig.add_subplot(121)\n",
    "confusion_matrix5 = pd.crosstab(y5_pred, y5_test, rownames = ['Predito'], colnames = ['Observado']) \n",
    "g = sns.heatmap(confusion_matrix5, fmt='', linewidths=.5, annot = True, cmap='PuRd', ax = ax1)\n",
    "g.set(title = \"Matriz de confusão - Árvore de Classificação\")\n",
    "\n",
    "ax2 = fig.add_subplot(122)\n",
    "confusion_matrix5_rf = pd.crosstab(y5_pred_rf, y5_test, rownames = ['Predito'], colnames = ['Observado']) \n",
    "g1 = sns.heatmap(confusion_matrix5_rf, fmt='', linewidths=.5, annot = True, cmap='PuRd', ax = ax2)\n",
    "g1.set(title = \"Matriz de confusão - Floresta Aleatória\")\n",
    "\n",
    "plt.show ()"
   ]
  },
  {
   "cell_type": "code",
   "execution_count": 42,
   "metadata": {},
   "outputs": [
    {
     "data": {
      "image/png": "[encoded data removed]",
      "text/plain": [
       "<Figure size 864x288 with 4 Axes>"
      ]
     },
     "metadata": {
      "needs_background": "light"
     },
     "output_type": "display_data"
    }
   ],
   "source": [
    "# Matrix de confusão \n",
    "fig = plt.figure(figsize=(12,4))\n",
    "\n",
    "ax1 = fig.add_subplot(121)\n",
    "confusion_matrix5 = pd.crosstab(y5_pred, y5_test, rownames = ['Predito'], colnames = ['Observado']) \n",
    "g = sns.heatmap(confusion_matrix5/np.sum(confusion_matrix5),fmt='.2%', linewidths=.5, annot = True, cmap='PuRd', annot_kws={\"size\": 12}, ax = ax1)\n",
    "g.set(title = \"Matriz de confusão - Árvore de Classificação\")\n",
    "\n",
    "ax2 = fig.add_subplot(122)\n",
    "confusion_matrix5_rf = pd.crosstab(y5_pred_rf, y5_test, rownames = ['Predito'], colnames = ['Observado']) \n",
    "g1 = sns.heatmap(confusion_matrix5_rf/np.sum(confusion_matrix5_rf), fmt='.2%', linewidths=.5, annot = True, cmap='PuRd',annot_kws={\"size\": 12}, ax = ax2)\n",
    "g1.set(title = \"Matriz de confusão - Floresta Aleatória\")\n",
    "\n",
    "plt.show ()"
   ]
  },
  {
   "cell_type": "code",
   "execution_count": 43,
   "metadata": {},
   "outputs": [
    {
     "name": "stdout",
     "output_type": "stream",
     "text": [
      "CAT =  0.998\n",
      "CAS =  0.758\n",
      "CAF =  0.999\n",
      "VPP =  0.867\n",
      "VPN =  0.002\n",
      "PVL =  0.006\n",
      "MCC =  0.81\n"
     ]
    }
   ],
   "source": [
    "metricas(confusion_matrix5.iloc[1,1], confusion_matrix5.iloc[0,1], confusion_matrix5.iloc[1,0], confusion_matrix5.iloc[0,0])"
   ]
  },
  {
   "cell_type": "code",
   "execution_count": 44,
   "metadata": {},
   "outputs": [
    {
     "name": "stdout",
     "output_type": "stream",
     "text": [
      "CAT =  0.998\n",
      "CAS =  0.737\n",
      "CAF =  1.0\n",
      "VPP =  0.986\n",
      "VPN =  0.002\n",
      "PVL =  0.006\n",
      "MCC =  0.852\n"
     ]
    }
   ],
   "source": [
    "metricas(confusion_matrix5_rf.iloc[1,1], confusion_matrix5_rf.iloc[0,1], confusion_matrix5_rf.iloc[1,0], confusion_matrix5_rf.iloc[0,0])"
   ]
  }
 ],
 "metadata": {
  "kernelspec": {
   "display_name": "Python 3",
   "language": "python",
   "name": "python3"
  },
  "language_info": {
   "codemirror_mode": {
    "name": "ipython",
    "version": 3
   },
   "file_extension": ".py",
   "mimetype": "text/x-python",
   "name": "python",
   "nbconvert_exporter": "python",
   "pygments_lexer": "ipython3",
   "version": "3.8.5"
  }
 },
 "nbformat": 4,
 "nbformat_minor": 4
}
